{
  "cells": [
    {
      "cell_type": "markdown",
      "metadata": {
        "id": "view-in-github",
        "colab_type": "text"
      },
      "source": [
        "<a href=\"https://colab.research.google.com/github/Kunal3012/K_Mean_Clustering_Mall_Customer_Data/blob/main/K_Means_clustering_on_mall_customer_dataset.ipynb\" target=\"_parent\"><img src=\"https://colab.research.google.com/assets/colab-badge.svg\" alt=\"Open In Colab\"/></a>"
      ]
    },
    {
      "cell_type": "markdown",
      "metadata": {
        "id": "kK-t4GNzpADP"
      },
      "source": [
        "\n",
        "\n",
        "#K -Means clustering on mall customer dataset"
      ]
    },
    {
      "cell_type": "code",
      "execution_count": null,
      "metadata": {
        "_cell_guid": "b1076dfc-b9ad-4769-8c92-a6c4dae69d19",
        "_uuid": "8f2839f25d086af736a60e9eeb907d3b93b6e0e5",
        "id": "NocgwbG_pADP"
      },
      "outputs": [],
      "source": [
        "import numpy as np # linear algebra\n",
        "import pandas as pd # data processing, CSV file I/O (e.g. pd.read_csv)\n",
        "import matplotlib.pyplot as plt\n",
        "import seaborn as sns"
      ]
    },
    {
      "cell_type": "code",
      "source": [
        "from google.colab import drive\n",
        "drive.mount('/content/drive')"
      ],
      "metadata": {
        "id": "GLvNheF8d9AE"
      },
      "execution_count": null,
      "outputs": []
    },
    {
      "cell_type": "code",
      "execution_count": null,
      "metadata": {
        "id": "E3lVAFJipADQ"
      },
      "outputs": [],
      "source": [
        "# Importing the dataset\n",
        "dataset = pd.read_csv('/content/drive/MyDrive/Colab Notebooks/Datasets/Mall_Customers.csv')"
      ]
    },
    {
      "cell_type": "code",
      "execution_count": null,
      "metadata": {
        "id": "AePw_29YpADQ"
      },
      "outputs": [],
      "source": [
        "dataset.head()"
      ]
    },
    {
      "cell_type": "code",
      "execution_count": null,
      "metadata": {
        "id": "rAB322qqu4tq"
      },
      "outputs": [],
      "source": [
        "dataset.tail()"
      ]
    },
    {
      "cell_type": "code",
      "execution_count": null,
      "metadata": {
        "id": "Z6CdNHnnu8wK"
      },
      "outputs": [],
      "source": [
        "dataset.shape"
      ]
    },
    {
      "cell_type": "code",
      "execution_count": null,
      "metadata": {
        "id": "T-ZofRsRpADR"
      },
      "outputs": [],
      "source": [
        "dataset.info()"
      ]
    },
    {
      "cell_type": "code",
      "execution_count": null,
      "metadata": {
        "id": "acisil5qpADR"
      },
      "outputs": [],
      "source": [
        "dataset.describe()"
      ]
    },
    {
      "cell_type": "code",
      "execution_count": null,
      "metadata": {
        "id": "KO0YFK8rpADR"
      },
      "outputs": [],
      "source": [
        "dataset.isnull().sum()"
      ]
    },
    {
      "cell_type": "code",
      "execution_count": null,
      "metadata": {
        "id": "JOSHiuKrpdyO"
      },
      "outputs": [],
      "source": [
        "dataset.columns"
      ]
    },
    {
      "cell_type": "markdown",
      "source": [],
      "metadata": {
        "id": "MV4KxcOOhAPY"
      }
    },
    {
      "cell_type": "markdown",
      "metadata": {
        "id": "pOrLUKZ_pADR"
      },
      "source": [
        "No Nans found! Great"
      ]
    },
    {
      "cell_type": "code",
      "execution_count": null,
      "metadata": {
        "id": "cB4Qm5vWpADR"
      },
      "outputs": [],
      "source": [
        "data=dataset[['Annual_Income_(k$)','Spending_Score']]"
      ]
    },
    {
      "cell_type": "code",
      "execution_count": null,
      "metadata": {
        "id": "GUD3JLGcpu_J"
      },
      "outputs": [],
      "source": [
        "data"
      ]
    },
    {
      "cell_type": "code",
      "execution_count": null,
      "metadata": {
        "id": "2bXBNC0evy6J"
      },
      "outputs": [],
      "source": [
        "data.shape"
      ]
    },
    {
      "cell_type": "code",
      "execution_count": null,
      "metadata": {
        "id": "cBpWrngTsqBc"
      },
      "outputs": [],
      "source": [
        "data.values"
      ]
    },
    {
      "cell_type": "code",
      "execution_count": null,
      "metadata": {
        "id": "xG7wdzNnsosu"
      },
      "outputs": [],
      "source": [
        "#we always assume the max number of cluster would be 10\n",
        "#you can judge the number of clusters by doing averaging\n",
        "###Static code to get max no of clusters"
      ]
    },
    {
      "cell_type": "code",
      "execution_count": null,
      "metadata": {
        "_cell_guid": "79c7e3d0-c299-4dcb-8224-4455121ee9b0",
        "_uuid": "d629ff2d2480ee46fbb7e2d37f6b5fab8052498a",
        "id": "VOqqI46DpADR"
      },
      "outputs": [],
      "source": [
        "# Using the elbow method to find the optimal number of clusters\n",
        "from sklearn.cluster import KMeans\n",
        "wc_ss = []\n",
        "for i in range(1, 11):\n",
        "    kmeans_clu = KMeans(n_clusters = i, random_state = 56)\n",
        "    kmeans_clu.fit(data)\n",
        "    # inertia method returns wcss for that model\n",
        "    wc_ss.append(kmeans_clu.inertia_)\n"
      ]
    },
    {
      "cell_type": "code",
      "execution_count": null,
      "metadata": {
        "id": "l1qrA0JgpADR"
      },
      "outputs": [],
      "source": [
        "plt.figure(figsize=(10,5))\n",
        "plt.plot(range(1,11), wc_ss)\n",
        "plt.title('The Elbow Method')\n",
        "plt.xlabel('Number of clusters')\n",
        "plt.ylabel('WCSS')\n",
        "plt.show()\n"
      ]
    },
    {
      "cell_type": "code",
      "execution_count": null,
      "metadata": {
        "id": "5zGJS4dwpADR"
      },
      "outputs": [],
      "source": [
        "# Fitting K-Means to the dataset\n",
        "kmeans = KMeans(n_clusters = 5, random_state = 56)\n",
        "y_kmeans = kmeans.fit_predict(data)"
      ]
    },
    {
      "cell_type": "markdown",
      "metadata": {
        "id": "6Y0cBaJ3pADR"
      },
      "source": [
        "<a id=\"7\"></a>\n",
        "## 7. Visualisation"
      ]
    },
    {
      "cell_type": "code",
      "execution_count": null,
      "metadata": {
        "id": "FxsYE8q0pADR"
      },
      "outputs": [],
      "source": [
        "# Visualisation\n",
        "for cluster_label in range(5):  # Assuming you have 5 clusters\n",
        "    plt.scatter(data[y_kmeans == cluster_label]['Annual_Income_(k$)'], data[y_kmeans == cluster_label]['Spending_Score'], s=100, label=f'Cluster {cluster_label + 1}')\n",
        "\n",
        "# Plot cluster centroids\n",
        "plt.scatter(kmeans.cluster_centers_[:, 0], kmeans.cluster_centers_[:, 1], s=300, c='violet', label='Centroids')\n",
        "\n",
        "plt.title('Clusters of customers')\n",
        "plt.xlabel('Annual Income (k$)')\n",
        "plt.ylabel('Spending Score (1-100)')\n",
        "plt.legend()\n",
        "plt.show()\n"
      ]
    },
    {
      "cell_type": "code",
      "execution_count": null,
      "metadata": {
        "id": "oA1ZwnAPpADS"
      },
      "outputs": [],
      "source": []
    }
  ],
  "metadata": {
    "colab": {
      "provenance": [],
      "private_outputs": true,
      "include_colab_link": true
    },
    "kernelspec": {
      "display_name": "Python 3",
      "language": "python",
      "name": "python3"
    },
    "language_info": {
      "codemirror_mode": {
        "name": "ipython",
        "version": 3
      },
      "file_extension": ".py",
      "mimetype": "text/x-python",
      "name": "python",
      "nbconvert_exporter": "python",
      "pygments_lexer": "ipython3",
      "version": "3.8.3"
    },
    "accelerator": "GPU",
    "gpuClass": "standard"
  },
  "nbformat": 4,
  "nbformat_minor": 0
}